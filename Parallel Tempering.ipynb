{
 "cells": [
  {
   "cell_type": "code",
   "execution_count": 7,
   "metadata": {},
   "outputs": [],
   "source": [
    "library(adaptMCMC)\n",
    "library(coda)\n",
    "library(MASS)\n",
    "library(sn)"
   ]
  },
  {
   "cell_type": "code",
   "execution_count": 22,
   "metadata": {},
   "outputs": [
    {
     "ename": "ERROR",
     "evalue": "Error in inDL(x, as.logical(local), as.logical(now), ...): unable to load shared object 'C:/Users/Mingxuan/Desktop/co2/R/../fortran/run_geocarb':\n  LoadLibrary failure:  The specified module could not be found.\n\n",
     "output_type": "error",
     "traceback": [
      "Error in inDL(x, as.logical(local), as.logical(now), ...): unable to load shared object 'C:/Users/Mingxuan/Desktop/co2/R/../fortran/run_geocarb':\n  LoadLibrary failure:  The specified module could not be found.\n\nTraceback:\n",
      "1. source(\"run_geocarbF.R\")",
      "2. withVisible(eval(ei, envir))",
      "3. eval(ei, envir)",
      "4. eval(ei, envir)",
      "5. dyn.load(\"../fortran/run_geocarb\")",
      "6. inDL(x, as.logical(local), as.logical(now), ...)"
     ]
    }
   ],
   "source": [
    "##==============================================================================\n",
    "## single_simulation.R\n",
    "##\n",
    "## Questions? Tony Wong (anthony.e.wong@colorado.edu)\n",
    "##==============================================================================\n",
    "\n",
    "rm(list=ls())\n",
    "\n",
    "#setwd('C:/Users/Mingxuan/Desktop/co2/R')\n",
    "library(sn)\n",
    "\n",
    "##==============================================================================\n",
    "## Preliminary model and data set-up\n",
    "\n",
    "dist <- 'sn'\n",
    "DO_SAMPLE_TVQ <- TRUE\n",
    "USE_LENTON_FSR <- FALSE\n",
    "USE_ROYER_FSR <- TRUE\n",
    "\n",
    "# upper bound from Royer et al 2014 (should be yielding a failed run anyhow)\n",
    "# lower bound relaxed in light of additional proxy data\n",
    "upper_bound_co2 <- 50000\n",
    "lower_bound_co2 <- 0\n",
    "\n",
    "data_to_assim <- cbind( c(\"paleosols\" , TRUE),\n",
    "                        c(\"alkenones\" , TRUE),\n",
    "                        c(\"stomata\"   , TRUE),\n",
    "                        c(\"boron\"     , TRUE),\n",
    "                        c(\"liverworts\", TRUE) )\n",
    "\n",
    "filename.calibinput <- '../input_data/GEOCARB_input_summaries_calib_unc.csv'\n",
    "\n",
    "source('parameterSetup.R')\n",
    "source('geocarb.R')\n",
    "source('run_geocarbF.R') # version with extra `var` uncertainty statistical parameter\n",
    "source('fitLikelihoodSurface.R')\n",
    "source('likelihood.R')\n",
    "\n",
    "# Get model parameter prior distribution bounds\n",
    "names <- as.character(input$parameter)\n",
    "bound_lower <- rep(NA, length(names))\n",
    "bound_upper <- rep(NA, length(names))\n",
    "\n",
    "ind_neg_inf <- which(input[,'lower_limit']=='_inf')\n",
    "bound_lower[ind_neg_inf] <- -Inf\n",
    "bound_lower[setdiff(1:length(names), ind_neg_inf)] <- as.numeric(as.character(input$lower_limit[setdiff(1:length(names), ind_neg_inf)]))\n",
    "bound_upper <- input$upper_limit\n",
    "\n",
    "bounds <- cbind(bound_lower, bound_upper)\n",
    "rownames(bounds) <- as.character(input$parameter)\n",
    "\n",
    "# only actually need the calibration parameters' bounds, so reformat the bounds\n",
    "# array to match the vector of calibration parameters\n",
    "bounds_calib <- mat.or.vec(nr=length(parnames_calib), nc=2)\n",
    "colnames(bounds_calib) <- c('lower','upper')\n",
    "rownames(bounds_calib) <- parnames_calib\n",
    "for (i in 1:length(parnames_calib)) {\n",
    "  bounds_calib[i,'lower'] <- bounds[parnames_calib[i],'bound_lower']\n",
    "  bounds_calib[i,'upper'] <- bounds[parnames_calib[i],'bound_upper']\n",
    "}\n",
    "\n",
    "\n",
    "##==============================================================================\n",
    "## Example: Run a single simulation\n",
    "\n",
    "# par_calib0 is the central estimates from prior distributions. standard\n",
    "# parameter values, but not calibrated or anything.\n",
    "\n",
    "model_out <- geocarb(par_calib=par_calib0,\n",
    "                     par_fixed=par_fixed0,\n",
    "                     parnames_calib=parnames_calib,\n",
    "                     parnames_fixed=parnames_fixed,\n",
    "                     parnames_time=parnames_time,\n",
    "                     age=age,\n",
    "                     ageN=ageN,\n",
    "                     ind_const_calib=ind_const_calib,\n",
    "                     ind_time_calib=ind_time_calib,\n",
    "                     ind_const_fixed=ind_const_fixed,\n",
    "                     ind_time_fixed=ind_time_fixed,\n",
    "                     ind_expected_time=ind_expected_time,\n",
    "                     ind_expected_const=ind_expected_const,\n",
    "                     iteration_threshold=iteration_threshold,\n",
    "                     do_sample_tvq=DO_SAMPLE_TVQ,\n",
    "                     par_time_center=par_time_center,\n",
    "                     par_time_stdev=par_time_stdev)\n",
    "\n",
    "\n",
    "##==============================================================================\n",
    "## Example: Evaluate the log-posterior score (log-prior + log-likelihood)\n",
    "##  for that simulation.\n",
    "\n",
    "# Note that this is using ALL 58 of the time-steps. We will want to only use\n",
    "# the t = 240 Mya (million years ago) time slice.\n",
    "\n",
    "# The log_post(...) function is defined in the likelihood.R routine\n",
    "\n",
    "lpost_out <- log_post(par_calib=par_calib0,\n",
    "                      par_fixed=par_fixed0,\n",
    "                      parnames_calib=parnames_calib,\n",
    "                      parnames_fixed=parnames_fixed,\n",
    "                      parnames_time=parnames_time,\n",
    "                      age=age,\n",
    "                      ageN=ageN,\n",
    "                      ind_const_calib=ind_const_calib,\n",
    "                      ind_time_calib=ind_time_calib,\n",
    "                      ind_const_fixed=ind_const_fixed,\n",
    "                      ind_time_fixed=ind_time_fixed,\n",
    "                      input=input,\n",
    "                      time_arrays=time_arrays,\n",
    "                      bounds_calib=bounds_calib,\n",
    "                      data_calib=data_calib,\n",
    "                      ind_mod2obs=ind_mod2obs,\n",
    "                      ind_expected_time=ind_expected_time,\n",
    "                      ind_expected_const=ind_expected_const,\n",
    "                      iteration_threshold=iteration_threshold,\n",
    "                      n_shard=1,\n",
    "                      loglikelihood_smoothed=loglikelihood_smoothed,\n",
    "                      likelihood_fit=likelihood_fit,\n",
    "                      idx_data=idx_data,\n",
    "                      do_sample_tvq=DO_SAMPLE_TVQ,\n",
    "                      par_time_center=par_time_center,\n",
    "                      par_time_stdev=par_time_stdev)\n",
    "\n",
    "##==============================================================================\n",
    "## End\n",
    "##=============================================================================="
   ]
  },
  {
   "cell_type": "code",
   "execution_count": 15,
   "metadata": {},
   "outputs": [],
   "source": [
    "logpost <- function(params, temp){\n",
    "    lpost_out <- temp*log_post(par_calib=par_calib0,\n",
    "                      par_fixed=par_fixed0,\n",
    "                      parnames_calib=parnames_calib,\n",
    "                      parnames_fixed=parnames_fixed,\n",
    "                      parnames_time=parnames_time,\n",
    "                      age=age,\n",
    "                      ageN=ageN,\n",
    "                      ind_const_calib=ind_const_calib,\n",
    "                      ind_time_calib=ind_time_calib,\n",
    "                      ind_const_fixed=ind_const_fixed,\n",
    "                      ind_time_fixed=ind_time_fixed,\n",
    "                      input=input,\n",
    "                      time_arrays=time_arrays,\n",
    "                      bounds_calib=bounds_calib,\n",
    "                      data_calib=data_calib,\n",
    "                      ind_mod2obs=ind_mod2obs,\n",
    "                      ind_expected_time=ind_expected_time,\n",
    "                      ind_expected_const=ind_expected_const,\n",
    "                      iteration_threshold=iteration_threshold,\n",
    "                      n_shard=1,\n",
    "                      loglikelihood_smoothed=loglikelihood_smoothed,\n",
    "                      likelihood_fit=likelihood_fit,\n",
    "                      idx_data=idx_data,\n",
    "                      do_sample_tvq=DO_SAMPLE_TVQ,\n",
    "                      par_time_center=par_time_center,\n",
    "                      par_time_stdev=par_time_stdev)\n",
    "    return (lpost_out)\n",
    "}"
   ]
  },
  {
   "cell_type": "code",
   "execution_count": 16,
   "metadata": {
    "collapsed": true
   },
   "outputs": [],
   "source": [
    "mu.true <- 20\n",
    "sigma.true <- 2\n",
    "data <- rnorm(n=200, mean=mu.true, sd=sigma.true)"
   ]
  },
  {
   "cell_type": "code",
   "execution_count": 17,
   "metadata": {
    "collapsed": true
   },
   "outputs": [],
   "source": [
    "loglike1 <- function(params, data){\n",
    "    return (sum(dnorm(data, mean=abs(params[1]), sd=params[2], log=TRUE)))\n",
    "}\n",
    "\n",
    "logprior1 <- function(params){\n",
    "    return (dunif(params[1], min=-10000, max=10000, log=TRUE)+dunif(params[2], min=0, max=100, log=TRUE))\n",
    "}\n",
    "\n",
    "logpost1 <- function(params, data, temp){\n",
    "    lp <- logprior1(params)\n",
    "    if (is.infinite(lp)){\n",
    "        return(-Inf)\n",
    "    }\n",
    "    ll <- loglike1(params, data)\n",
    "    return (temp*(ll+lp))\n",
    "}"
   ]
  },
  {
   "cell_type": "code",
   "execution_count": 18,
   "metadata": {
    "collapsed": true
   },
   "outputs": [],
   "source": [
    "loglike2 <- function(params, data){\n",
    "    return (sum(dnorm(data, mean=abs(params), sd=2, log=TRUE)))\n",
    "}\n",
    "\n",
    "logprior2 <- function(params){\n",
    "    return (dunif(params, min=-10000, max=10000, log=TRUE))\n",
    "}\n",
    "\n",
    "logpost2 <- function(params, data, temp){\n",
    "    lp <- logprior2(params)\n",
    "    if (is.infinite(lp)){\n",
    "        return(-Inf)\n",
    "    }\n",
    "    ll <- loglike2(params, data)\n",
    "    return (temp*(ll+lp))\n",
    "}"
   ]
  },
  {
   "cell_type": "code",
   "execution_count": 19,
   "metadata": {
    "collapsed": true
   },
   "outputs": [],
   "source": [
    "temp.schedules <- function(nchains, deltaT){\n",
    "    temps <- c()\n",
    "    for (i in seq(1, nchains)){\n",
    "        temps <- c(temps, 1/(1+deltaT*(i-1)))\n",
    "    }\n",
    "    return (temps)\n",
    "}"
   ]
  },
  {
   "cell_type": "code",
   "execution_count": 20,
   "metadata": {
    "collapsed": true
   },
   "outputs": [],
   "source": [
    "repexMCMC <- function(nchains, temp_intervals, initials, logposterior, data, ncycles, cycle, covariance_matrix, nparams){\n",
    "    ntrials <- 0\n",
    "    nswaps <- 0\n",
    "    output <- list()\n",
    "    for (i in 1:nchains){\n",
    "        output[[i]] <- list()\n",
    "        output[[i]]$samples <- matrix(nrow=1+ncycles*cycle, ncol=nparams)\n",
    "        output[[i]]$samples[1, ] <- initials[i, ]\n",
    "        output[[i]]$log.p <- rep(0, 1+ncycles*cycle)\n",
    "        output[[i]]$log.p[1] <- logposterior(initials[i, ], data, temp_intervals[i])\n",
    "    }\n",
    "    for (i in 1:ncycles){\n",
    "        for (j in 1:cycle){\n",
    "            index <- (i-1)*cycle+j\n",
    "            for (k in 1:nchains){\n",
    "                currentState <- output[[k]]$samples[index, ]\n",
    "                currentLog.p <- output[[k]]$log.p[index]\n",
    "                proposalState <- mvrnorm(n=1, mu=currentState, Sigma=covariance_matrix)\n",
    "                proposalLog.p <- logposterior(proposalState, data, temp_intervals[k])\n",
    "                P.accept <- min(0, proposalLog.p-currentLog.p)\n",
    "                U <- runif(n=1, min=0, max=1)\n",
    "                if (log(U) < P.accept){\n",
    "                    output[[k]]$samples[index+1, ] <- proposalState\n",
    "                    output[[k]]$log.p[index+1] <- proposalLog.p\n",
    "                }\n",
    "                else{\n",
    "                    output[[k]]$samples[index+1, ] <- currentState\n",
    "                    output[[k]]$log.p[index+1] <- currentLog.p\n",
    "                }\n",
    "            }\n",
    "        }\n",
    "        ntrials <- ntrials+1\n",
    "        couple <- sample(1:nchains, size=2); c1 <- couple[1]; c2 <- couple[2]\n",
    "        x <- output[[c1]]$samples[index+1, ]; y<- output[[c2]]$samples[index+1, ]\n",
    "        P.swap <- min(0, logposterior(y, data=data, temp=temp_intervals[c1])+\n",
    "                         logposterior(x, data=data, temp=temp_intervals[c2])-\n",
    "                         logposterior(x, data=data, temp=temp_intervals[c1])-\n",
    "                         logposterior(y, data=data, temp=temp_intervals[c2]))\n",
    "        U <- runif(n=1, min=0, max=1)\n",
    "        if (log(U) < P.swap){\n",
    "            nswaps <- nswaps + 1\n",
    "            output[[c1]]$samples[index+1, ] <- y; output[[c2]]$samples[index+1, ] <- x\n",
    "        }\n",
    "    }\n",
    "    print (nswaps/ntrials)\n",
    "    return (output[[1]])\n",
    "}"
   ]
  },
  {
   "cell_type": "code",
   "execution_count": 21,
   "metadata": {},
   "outputs": [
    {
     "name": "stdout",
     "output_type": "stream",
     "text": [
      "[1] 0.4407\n"
     ]
    },
    {
     "data": {
      "image/png": "[encoded data removed]",
      "text/plain": [
       "Plot with title \"density.default(x = test$samples[, 1])\""
      ]
     },
     "metadata": {},
     "output_type": "display_data"
    }
   ],
   "source": [
    "nchains <- 10\n",
    "deltaT <- 2\n",
    "temps <- temp.schedules(nchains, deltaT)\n",
    "init <- 0\n",
    "cov <- matrix(data=c(0,0), ncol=2, nrow=2)\n",
    "cov[1,1] <- 1\n",
    "cov[2,2] <- 1\n",
    "test <- repexMCMC(10, temps, matrix(data=c(0, 1), ncol=2, nrow=10, byrow=TRUE), logpost1, data, 20000, 5, cov, 2)\n",
    "d <- density(test$samples[, 1])\n",
    "plot(d)"
   ]
  },
  {
   "cell_type": "code",
   "execution_count": 119,
   "metadata": {
    "collapsed": true
   },
   "outputs": [],
   "source": [
    "parallel.tempering <- function(nchains, temps, init, logpost, data, niter, scale){\n",
    "    chains <- list()\n",
    "    values <- list()\n",
    "    nswaps <- 0\n",
    "    for (i in seq(1, nchains)){\n",
    "        chains[[i]] <- c(init)\n",
    "        values[[i]] <- c(logpost(init, data=data, temp=temps[i]))\n",
    "    }\n",
    "    for (i in seq(1, niter)){\n",
    "        for (j in seq(1, nchains)){\n",
    "            currentValue <- values[[j]][i]\n",
    "            currentState <- chains[[j]][i]\n",
    "            nextState <- rnorm(1, mean=currentState, sd=scale)\n",
    "            nextValue <- logpost(nextState, data=data, temp=temps[j])\n",
    "            P.accept <- min(c(0, nextValue-currentValue))\n",
    "            U <- runif(1, min=0, max=1)\n",
    "            if (log(U) < P.accept){\n",
    "                chains[[j]] <- c(chains[[j]], nextState)\n",
    "                values[[j]] <- c(values[[j]], nextValue)\n",
    "            }\n",
    "            else{\n",
    "                chains[[j]] <- c(chains[[j]], currentState)\n",
    "                values[[j]] <- c(values[[j]], currentValue)\n",
    "            }\n",
    "        }\n",
    "        swap.couple <- sample(seq(1, nchains), size=2)\n",
    "        x <- chains[[swap.couple[1]]][i+1]\n",
    "        y <- chains[[swap.couple[2]]][i+1]\n",
    "        numerator <- logpost(y, data=data, temp=temps[swap.couple[1]])+logpost(x, data=data, temp=temps[swap.couple[2]])\n",
    "        dominator <- -(logpost(x, data=data, temp=temps[swap.couple[1]])+logpost(y, data=data, temp=temps[swap.couple[2]]))\n",
    "        P.swap <- min(c(0, numerator+dominator))\n",
    "        U <- runif(1, min=0, max=1)\n",
    "        if (log(U) < P.swap){\n",
    "            nswaps <- nswaps + 1\n",
    "            chains[[swap.couple[1]]][i+1] <- y\n",
    "            chains[[swap.couple[2]]][i+1] <- x\n",
    "        }\n",
    "    }\n",
    "    print(nswaps/niter)\n",
    "    return (chains)\n",
    "}"
   ]
  },
  {
   "cell_type": "code",
   "execution_count": 109,
   "metadata": {},
   "outputs": [
    {
     "name": "stdout",
     "output_type": "stream",
     "text": [
      "[1] 0.27255\n"
     ]
    }
   ],
   "source": [
    "chains <- parallel.tempering(nchains, temps, 0, logpost2, data, 20000, 1)"
   ]
  },
  {
   "cell_type": "code",
   "execution_count": 110,
   "metadata": {},
   "outputs": [
    {
     "data": {
      "image/png": "[encoded data removed]",
      "text/plain": [
       "Plot with title \"Parrallel Tempering Result\""
      ]
     },
     "metadata": {},
     "output_type": "display_data"
    }
   ],
   "source": [
    "d <- density(chains[[1]])\n",
    "plot(d, main='Parrallel Tempering Result', ylab='Density', xlab='Value')"
   ]
  }
 ],
 "metadata": {
  "kernelspec": {
   "display_name": "R",
   "language": "R",
   "name": "ir"
  },
  "language_info": {
   "codemirror_mode": "r",
   "file_extension": ".r",
   "mimetype": "text/x-r-source",
   "name": "R",
   "pygments_lexer": "r",
   "version": "3.4.3"
  }
 },
 "nbformat": 4,
 "nbformat_minor": 2
}
