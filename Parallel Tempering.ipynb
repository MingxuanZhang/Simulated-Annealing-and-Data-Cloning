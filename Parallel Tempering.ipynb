{
 "cells": [
  {
   "cell_type": "code",
   "execution_count": 33,
   "metadata": {},
   "outputs": [],
   "source": [
    "library(adaptMCMC)\n",
    "library(coda)"
   ]
  },
  {
   "cell_type": "code",
   "execution_count": 34,
   "metadata": {
    "collapsed": true
   },
   "outputs": [],
   "source": [
    "mu.true <- 20\n",
    "sigma.true <- 2\n",
    "data <- rnorm(n=200, mean=mu.true, sd=sigma.true)"
   ]
  },
  {
   "cell_type": "code",
   "execution_count": 35,
   "metadata": {
    "collapsed": true
   },
   "outputs": [],
   "source": [
    "loglike <- function(param, data){\n",
    "    return (sum(dnorm(data, mean=abs(param), sd=sigma.true, log=TRUE)))\n",
    "}\n",
    "\n",
    "logprior <- function(param){\n",
    "    return (dunif(param, min=-10000, max=10000, log=TRUE))\n",
    "}\n",
    "\n",
    "logpost <- function(param, data, temp){\n",
    "    lp <- logprior(param)\n",
    "    if (is.infinite(lp)){\n",
    "        return(-Inf)\n",
    "    }\n",
    "    ll <- loglike(param, data)\n",
    "    return (temp*(ll+lp))\n",
    "}"
   ]
  },
  {
   "cell_type": "code",
   "execution_count": 71,
   "metadata": {},
   "outputs": [
    {
     "data": {
      "image/png": "[encoded data removed]",
      "text/plain": [
       "Plot with title \"Log Posterior Scores\""
      ]
     },
     "metadata": {},
     "output_type": "display_data"
    }
   ],
   "source": [
    "x <- seq(-40, 40, 0.05)\n",
    "y <- sapply(FUN=logpost, X=x, data=data, temp=1)\n",
    "plot(x, y, 'l', main='Log Posterior Scores', xlab='Value', ylab='Ccores')"
   ]
  },
  {
   "cell_type": "code",
   "execution_count": 41,
   "metadata": {
    "collapsed": true
   },
   "outputs": [],
   "source": [
    "temp.schedules <- function(nchains, deltaT){\n",
    "    temps <- c()\n",
    "    for (i in seq(1, nchains)){\n",
    "        temps <- c(temps, 1/(1+deltaT*(i-1)))\n",
    "    }\n",
    "    return (temps)\n",
    "}"
   ]
  },
  {
   "cell_type": "code",
   "execution_count": 63,
   "metadata": {
    "collapsed": true
   },
   "outputs": [],
   "source": [
    "nchains <- 8\n",
    "deltaT <- 0.5\n",
    "temps <- temp.schedules(nchains, deltaT)\n",
    "init <- 0"
   ]
  },
  {
   "cell_type": "code",
   "execution_count": 64,
   "metadata": {
    "collapsed": true
   },
   "outputs": [],
   "source": [
    "parallel.tempering <- function(nchains, temps, init, logpost, data, niter, scale){\n",
    "    chains <- list()\n",
    "    values <- list()\n",
    "    nswaps <- 0\n",
    "    for (i in seq(1, nchains)){\n",
    "        chains[[i]] <- c(init)\n",
    "        values[[i]] <- c(logpost(init, data=data, temp=temps[i]))\n",
    "    }\n",
    "    for (i in seq(1, niter)){\n",
    "        for (j in seq(1, nchains)){\n",
    "            currentValue <- values[[j]][i]\n",
    "            currentState <- chains[[j]][i]\n",
    "            nextState <- rnorm(1, mean=currentState, sd=scale)\n",
    "            nextValue <- logpost(nextState, data=data, temp=temps[j])\n",
    "            P.accept <- min(c(0, nextValue-currentValue))\n",
    "            U <- runif(1, min=0, max=1)\n",
    "            if (log(U) < P.accept){\n",
    "                chains[[j]] <- c(chains[[j]], nextState)\n",
    "                values[[j]] <- c(values[[j]], nextValue)\n",
    "            }\n",
    "            else{\n",
    "                chains[[j]] <- c(chains[[j]], currentState)\n",
    "                values[[j]] <- c(values[[j]], currentValue)\n",
    "            }\n",
    "        }\n",
    "        swap.couple <- sample(seq(1, nchains), size=2)\n",
    "        x <- chains[[swap.couple[1]]][i+1]\n",
    "        y <- chains[[swap.couple[2]]][i+1]\n",
    "        numerator <- logpost(y, data=data, temp=temps[swap.couple[1]])+logpost(x, data=data, temp=temps[swap.couple[2]])\n",
    "        dominator <- -(logpost(x, data=data, temp=temps[swap.couple[1]])+logpost(y, data=data, temp=temps[swap.couple[2]]))\n",
    "        P.swap <- min(c(0, numerator+dominator))\n",
    "        U <- runif(1, min=0, max=1)\n",
    "        if (log(U) < P.swap){\n",
    "            nswaps <- nswaps + 1\n",
    "            chains[[swap.couple[1]]][i+1] <- y\n",
    "            chains[[swap.couple[2]]][i+1] <- x\n",
    "        }\n",
    "    }\n",
    "    print(nswaps/niter)\n",
    "    return (chains)\n",
    "}"
   ]
  },
  {
   "cell_type": "code",
   "execution_count": 65,
   "metadata": {},
   "outputs": [
    {
     "name": "stdout",
     "output_type": "stream",
     "text": [
      "[1] 0.43165\n"
     ]
    }
   ],
   "source": [
    "chains <- parallel.tempering(nchains, temps, 0, logpost, data, 20000, 1)"
   ]
  },
  {
   "cell_type": "code",
   "execution_count": 70,
   "metadata": {},
   "outputs": [
    {
     "data": {
      "image/png": "[encoded data removed]",
      "text/plain": [
       "Plot with title \"Parrallel Tempering Result\""
      ]
     },
     "metadata": {},
     "output_type": "display_data"
    }
   ],
   "source": [
    "d <- density(chains[[1]])\n",
    "plot(d, main='Parrallel Tempering Result', ylab='Density', xlab='Value')"
   ]
  }
 ],
 "metadata": {
  "kernelspec": {
   "display_name": "R",
   "language": "R",
   "name": "ir"
  },
  "language_info": {
   "codemirror_mode": "r",
   "file_extension": ".r",
   "mimetype": "text/x-r-source",
   "name": "R",
   "pygments_lexer": "r",
   "version": "3.4.3"
  }
 },
 "nbformat": 4,
 "nbformat_minor": 2
}
