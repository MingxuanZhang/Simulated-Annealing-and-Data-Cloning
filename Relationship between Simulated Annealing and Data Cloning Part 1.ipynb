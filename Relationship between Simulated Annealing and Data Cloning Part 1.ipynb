{
 "cells": [
  {
   "cell_type": "markdown",
   "metadata": {},
   "source": [
    "# Relationship between Simulated Annealing and Data Cloning Part 1:\n",
    "\n",
    "# Instructor: Brian Zaharatos"
   ]
  },
  {
   "cell_type": "markdown",
   "metadata": {},
   "source": [
    "### Claim: Data cloning and simulated annealing with constant temperature are the same algorithm under some conditions.\n",
    "### Proof:\n",
    "\n",
    "Data cloning uses Metropolis-Hastings algorithm, so first let's recall why this algorithm will give us samples from posterior distribution. The way that MH-algorihtm constructs the acceptance probability will make the posterior distribution satisfies the detailed-balance condition, since detailed balance condition is \"stronger\" than stationary distribution, so the posterior distribution is a stationary distribution for the markov chain we produced from MH-algorithm, which means if we run the MH-algorithm forever, in theory the markov chain will converge(see the remark1 bleow) to this stationary distribution.\n",
    "\n",
    "**Remark1**: The markov chain produced by MH-algorithm, is a discrete time, continuous state space markov chain. In markov processes class I only studied the convergence theroem for discrete time, discrete state space markov chain and continuous time, discrete state space markov process, so I am not sure what are the conditions for a discrete time, continuous state space markov chain to converge, but I am sure it will work, I can look into this if this is important!\n",
    "\n",
    "\n",
    "Now we will use the **same idea** ([Essentials of Stochastic Processes](https://services.math.duke.edu/~rtd/EOSP/EOSP2E.pdf) at page 36) to prove simulated annealing with constant temperature is the same as data cloning under some conditions, let's begin!\n",
    "\n",
    "\n",
    "Denote the $r(x,y)$ as the acceptance probability (technically it is probability density function), ie: if the current state is x then r(x,y) is the probability that we will accpet the proposed state y as the next state.\n",
    "\n",
    "Denote the $q(x,y)$ as the proposing probability (again, probability density function), ie: if the current state is x, than q(x,y) is the probability that we will propose state y as next state (not accepeting). MH-algorithm usually use multivariate normal distribution as the proposing distribution, we will do the same thing for Simulated Annealing algorithm.\n",
    "\n",
    "Note that we will work with log likelihood function here, and since Simulated Annealing is looking for global minimum, so we will define the objective function as $-log(L(\\theta))$.\n",
    "\n",
    "\n",
    "Assume that x, y are two possible parameters from posterior distribution. and we will let $T$ denote the constant temperature. According to Simulated Annealing algorithm, the acceptance probability $r(x,y)$ is defined as following:\n",
    "\n",
    "$r(x,y) = min\\Bigg\\{e^{\\dfrac{-\\Delta E}{T}}, 1 \\Bigg\\}$\n",
    "\n",
    "$= min\\Bigg\\{e^{\\dfrac{-\\Big(-log\\big(L(y)\\big)-\\big(-log(L(x))\\big)\\Big)}{T}}, 1 \\Bigg\\}$\n",
    "\n",
    "$= min\\Bigg\\{e^{\\dfrac{\\Big(log\\big(L(y)\\big)-log\\big(L(x)\\big)\\Big)}{T}}, 1 \\Bigg\\}$\n",
    "\n",
    "I will skip some algebra for now (I will add them up later)\n",
    "\n",
    "$= min\\Bigg\\{\\dfrac{L(y)^{1/T}}{L(x)^{1/T}}, 1 \\Bigg\\}$\n",
    "\n",
    "Now assume that if choice of the prior distribution for data cloning is a uniform distribution $Uniform(\\lim_{a\\to-\\infty} a, \\lim_{b\\to\\infty} b)$ (see remark2 below), so for each possible parameter in posterior distribution, it's prior probability(density) will be a constant. And since our proposing distribution is multivariate normal distribution, this distribution is symmetric, so $q(x,y) = q(y,x)$. With these conditions, and denote $\\pi$ as the special uniform prior distribution, we can rewrite the acceptance probability $r(x,y)$ as following:\n",
    "\n",
    "$r(x,y) = min\\Bigg\\{\\dfrac{L(y)^{1/T}\\pi (y)q(y,x)}{L(x)^{1/T}\\pi (x)q(x,y)}, 1 \\Bigg\\}$\n",
    "\n",
    "\n",
    "**Remark2**: We need both parameters go to infinity, because if the range of the uniform distribution (ie: $b-a$) is small, and if the proposed state y is less than a or greater than b, $\\pi(y)=0 \\neq \\pi(x)=\\dfrac{1}{b-a}$, then we can not add them into the fraction, but in practice we could use a really wide uniform distribution to solve this problem. And I know how to deal with the case where the prior distribution in data cloning is not uniform, I will add them up later.\n",
    "\n",
    "\n",
    "\n",
    "Now we have the acceptance probability $r(x,y)$, then it is clear that the transition probability $p(x,y)$ for this markov chain is: $p(x,y) = q(x,y)r(x,y)$.\n",
    "\n",
    "\n",
    "\n",
    "The posterior distribution $\\pi_{k}(x | data)$ in data cloning with power k and a uniform prior distribution $Uniform(\\lim_{a\\to-\\infty} a, \\lim_{b\\to\\infty} b)$ is proportional to $L(x)^{k}\\pi(x)$, we don't care about the normalization constant, since it will be canceled. Now we will show this posterior distribution is the **stationary distribution** for a markov chain with transition probability $p(x,y)$ that we defined above. To show this is the stationary distribution, we will show that this posterior distribution satisfies the detailed-balance condition.\n",
    "\n",
    "Without losing generality, we assume $L(y)^{1/T} > L(x)^{1/T}$, and we let $k=\\dfrac{1}{T}$\n",
    "\n",
    "$LHS = \\pi_{k}(x | data)p(x,y)=L(x)^{k}\\pi(x)q(x,y)r(x,y)=L(x)^{1/T}\\pi(x)q(x,y)$, (since $L(y)^{1/T} > L(x)^{1/T}$, $r(x,y)=1$)\n",
    "\n",
    "This is the left hand side of detailed-balance condition, we will show this is eqaul to the the right hand side of detailed-balance condition.\n",
    "\n",
    "$RHS = \\pi_{k}(y | data)p(y,x)$\n",
    "\n",
    "$=L(y)^{k}\\pi(y)q(y,x)r(y,x)$\n",
    "\n",
    "$=L(y)^{1/T}\\pi(y)q(y,x)\\dfrac{L(x)^{1/T}\\pi (x)q(x,y)}{L(y)^{1/T}\\pi (y)q(y,x)}=L(x)^{1/T}\\pi(x)q(x,y)$, (since $L(y)^{1/T} > L(x)^{1/T}$, $r(y,x)=\\dfrac{L(x)^{1/T}\\pi (x)q(x,y)}{L(y)^{1/T}\\pi (y)q(y,x)}$)\n",
    "\n",
    "Now we have shown that $LHS=RHS$ and since $x, y$ are random, we can say this posterior distribution satisfies the detailed-balance condition, so it is a stationary distribution!\n",
    "\n",
    "### Conclusion:\n",
    "\n",
    "If we perform the simulated annealing algorithm with a constant temperature $T$ on negative log-likelihood function $-log(L(x))$, it is same to perform data cloning algorithm on log-posterior distribution $log(x)^{1/T}\\pi(x)$, where $\\pi(x)$ denotes a special uniform prior distribution $Uniform(\\lim_{a\\to-\\infty} a, \\lim_{b\\to\\infty} b)$. In practice we can use a really wide uniform prior distirbution to satisfy this requirement.\n",
    "\n",
    "\n",
    "**Remark3**: Like I mentioned in remark2, I know how to deal with cases where the prior distribution is not uniform distribution or not this special uniform distribution, so later I will draw a more general conclusion, but I think if the prior in data cloning is this special uniform, the conclusion is more interesting!"
   ]
  },
  {
   "cell_type": "markdown",
   "metadata": {},
   "source": [
    "***"
   ]
  },
  {
   "cell_type": "markdown",
   "metadata": {},
   "source": [
    "# Let's test this conclusion!"
   ]
  },
  {
   "cell_type": "code",
   "execution_count": 5,
   "metadata": {
    "collapsed": true
   },
   "outputs": [],
   "source": [
    "library(adaptMCMC)\n",
    "library(coda) "
   ]
  },
  {
   "cell_type": "markdown",
   "metadata": {},
   "source": [
    "# Generate synthetic data\n",
    "\n",
    "We will generate a synthetic data set from $N(\\mu = 10, \\sigma=2)$, then use SA and data cloning to recover the parameter $\\mu$, and we assume we know the true $\\sigma$ here, which is 2 in this case."
   ]
  },
  {
   "cell_type": "code",
   "execution_count": 6,
   "metadata": {
    "collapsed": true
   },
   "outputs": [],
   "source": [
    "mu.true <- 10\n",
    "sigma.true <- 2\n",
    "obs <- rnorm(n=200, mean=mu.true, sd=sigma.true)"
   ]
  },
  {
   "cell_type": "markdown",
   "metadata": {},
   "source": [
    "Define log-prior distribution, log-likelihood function, log-posterior distribution, note that since we are working with log-likelihood function, if we want to raise a power k to the likelihood funciton, it is same to multiply the log-likelihood function with k."
   ]
  },
  {
   "cell_type": "code",
   "execution_count": 7,
   "metadata": {
    "collapsed": true
   },
   "outputs": [],
   "source": [
    "loglike <- function(param, data, sign=1, k=1){\n",
    "    return (k*sign*sum(dnorm(x=data, mean=param, sd=sigma.true, log=TRUE)))\n",
    "}\n",
    "\n",
    "logprior <- function(param){\n",
    "    return (dunif(param, min=-1000, max=1000))\n",
    "}\n",
    "\n",
    "logpost <- function(param, data, k=1, sign=1){\n",
    "    lp <- logprior(param)\n",
    "    if (is.infinite(param)){\n",
    "        return (-Inf)\n",
    "    }\n",
    "    ll <- loglike(param, data, sign, k)\n",
    "    return (ll+lp)\n",
    "}"
   ]
  },
  {
   "cell_type": "markdown",
   "metadata": {},
   "source": [
    "This is the Simulated Annealing algorithm, initial is the initial state, maxit is the number of iterations, objFun is objective function, data.meas is synthetic data, annealing is a function representing different cooling schedule, so we don't have to change this algorithm itself, if we want to test different cooling schedule, for our test, the cooling schedule is a constant temperature."
   ]
  },
  {
   "cell_type": "code",
   "execution_count": 8,
   "metadata": {
    "collapsed": true
   },
   "outputs": [],
   "source": [
    "sAnnealing <- function(initial, maxit, objFun, data.meas, annealing){\n",
    "    Xt <- c(initial)\n",
    "    objVals <- c(objFun(initial, data=data.meas, sign=-1))\n",
    "    T <- annealing(0)\n",
    "    Temperatures <- c(T)\n",
    "    for (t in seq(1, maxit)){\n",
    "        last <- length(Xt)\n",
    "        newS <- rnorm(n=1, mean=Xt[last], sd=1)\n",
    "        Enew <- objFun(newS, data=data.meas, sign=-1)\n",
    "        deltaE <- Enew - objVals[last]\n",
    "        if (deltaE < 0){\n",
    "            Xt <- c(Xt, newS)\n",
    "            objVals <- c(objVals, Enew)\n",
    "        }\n",
    "        else{\n",
    "            U <- runif(n=1, min=0, max=1)\n",
    "            if (U <= exp(-(deltaE)/T)){\n",
    "                Xt <- c(Xt, newS)\n",
    "                objVals <- c(objVals, Enew)\n",
    "            }\n",
    "            else{\n",
    "                Xt <- c(Xt, Xt[last])\n",
    "                objVals <- c(objVals, objVals[last])\n",
    "            }\n",
    "        }\n",
    "        T <- annealing(t)\n",
    "        Temperatures <- c(Temperatures, T)\n",
    "    }\n",
    "    return (list(Xt, objVals, Temperatures))\n",
    "}"
   ]
  },
  {
   "cell_type": "markdown",
   "metadata": {},
   "source": [
    "We will perform data cloning algorithm with $k=10$, and 60000 iterations. We will use regular Metropolis-Hastings algorithm instead of adaptive Metropolis Hastings algorithm, becasuse the simulated annealing algorithm is not adaptive, and we want to control the variance of the proposing distribution, so they will be the same for both algorithms, I set them equal to 1. Also we will set the initial state to be 0 for both algorithms."
   ]
  },
  {
   "cell_type": "code",
   "execution_count": 15,
   "metadata": {},
   "outputs": [
    {
     "name": "stdout",
     "output_type": "stream",
     "text": [
      "  generate 60000 samples \n"
     ]
    }
   ],
   "source": [
    "niter = 60000\n",
    "k = 10\n",
    "\n",
    "data.cloning.raw <- MCMC(p=logpost,\n",
    "                n=niter,\n",
    "                init=0,\n",
    "                list=TRUE,\n",
    "                data = obs,\n",
    "                k = k, \n",
    "                scale = 1\n",
    "                )\n",
    "data.cloning = convert.to.coda(data.cloning.raw)"
   ]
  },
  {
   "cell_type": "markdown",
   "metadata": {},
   "source": [
    "We will use constant temperature here, and this constant temperature is equal to $T=\\dfrac{1}{k}=0.1$"
   ]
  },
  {
   "cell_type": "code",
   "execution_count": 10,
   "metadata": {
    "collapsed": true
   },
   "outputs": [],
   "source": [
    "constantT <- function(t){\n",
    "    return (1/k)\n",
    "}"
   ]
  },
  {
   "cell_type": "markdown",
   "metadata": {},
   "source": [
    "We will perform SA on log-likelihood function (not log-posterior distribution), with same number of iterations (6000) and same initial state 0, and a constant temperature 0.1"
   ]
  },
  {
   "cell_type": "code",
   "execution_count": 11,
   "metadata": {
    "collapsed": true
   },
   "outputs": [],
   "source": [
    "SA <- sAnnealing(0, niter, loglike, obs, constantT)"
   ]
  },
  {
   "cell_type": "markdown",
   "metadata": {},
   "source": [
    "This is the time series plot of markov chain from Simulated annealing algorithm"
   ]
  },
  {
   "cell_type": "code",
   "execution_count": 21,
   "metadata": {},
   "outputs": [
    {
     "data": {
      "image/png": "[encoded data removed]",
      "text/plain": [
       "plot without title"
      ]
     },
     "metadata": {},
     "output_type": "display_data"
    }
   ],
   "source": [
    "plot(seq(1, niter+1), SA[[1]], 'l', xlab='iterations', ylab='')"
   ]
  },
  {
   "cell_type": "markdown",
   "metadata": {},
   "source": [
    "***"
   ]
  },
  {
   "cell_type": "markdown",
   "metadata": {},
   "source": [
    "This is the time series plot of markov chain from data cloning algorithm"
   ]
  },
  {
   "cell_type": "code",
   "execution_count": 20,
   "metadata": {},
   "outputs": [
    {
     "data": {
      "image/png": "[encoded data removed]",
      "text/plain": [
       "Plot with title \"Trace of var1\""
      ]
     },
     "metadata": {},
     "output_type": "display_data"
    }
   ],
   "source": [
    "plot(data.cloning, density=FALSE)"
   ]
  },
  {
   "cell_type": "markdown",
   "metadata": {},
   "source": [
    "A burn-in period of 20000 will be enough for both chains, so let's cut off the first 20000 iterations (I could use the gelman-rubin diagnostic, but I only have one chain for each algorithm here. But I can do this later!)"
   ]
  },
  {
   "cell_type": "code",
   "execution_count": 26,
   "metadata": {
    "collapsed": true
   },
   "outputs": [],
   "source": [
    "burn.SA <- SA[[1]][20000:niter]\n",
    "burn.DC <- data.cloning[20000:niter]"
   ]
  },
  {
   "cell_type": "markdown",
   "metadata": {},
   "source": [
    "Let's plot them together!"
   ]
  },
  {
   "cell_type": "code",
   "execution_count": 42,
   "metadata": {},
   "outputs": [
    {
     "data": {
      "image/png": "[encoded data removed]",
      "text/plain": [
       "Plot with title \"SA vs DC\""
      ]
     },
     "metadata": {},
     "output_type": "display_data"
    }
   ],
   "source": [
    "plot(seq(20000, niter), burn.SA, 'l', col='red', xlab='iterations', ylab='', main='SA vs DC')\n",
    "lines(seq(20000, niter), burn.DC, 'l', col='yellow')\n",
    "legend(x=20000, y=10.44, legend=c('SA', 'DC'), \n",
    "       col=c('red', 'yellow'), \n",
    "       pch=c(-1,-1)， \n",
    "       lty=c(1,1), \n",
    "       lwd=c(1,1))"
   ]
  },
  {
   "cell_type": "markdown",
   "metadata": {},
   "source": [
    "As you can see, the result is what we expected!"
   ]
  },
  {
   "cell_type": "markdown",
   "metadata": {},
   "source": [
    "Now let's calculate the mean for each chain, after burn-in"
   ]
  },
  {
   "cell_type": "code",
   "execution_count": 44,
   "metadata": {},
   "outputs": [
    {
     "name": "stdout",
     "output_type": "stream",
     "text": [
      "[1] \"Mean for Simulated Annealing is:\"\n",
      "[1] 10.26305\n",
      "[1] \"Mean for Data Cloning is:\"\n",
      "[1] 10.26362\n"
     ]
    }
   ],
   "source": [
    "print ('Mean for Simulated Annealing is:')\n",
    "print (mean(burn.SA))\n",
    "print ('Mean for Data Cloning is:')\n",
    "print (mean(burn.DC))"
   ]
  },
  {
   "cell_type": "markdown",
   "metadata": {},
   "source": [
    "Again, they have almost the same mean!"
   ]
  }
 ],
 "metadata": {
  "kernelspec": {
   "display_name": "R",
   "language": "R",
   "name": "ir"
  },
  "language_info": {
   "codemirror_mode": "r",
   "file_extension": ".r",
   "mimetype": "text/x-r-source",
   "name": "R",
   "pygments_lexer": "r",
   "version": "3.4.3"
  }
 },
 "nbformat": 4,
 "nbformat_minor": 2
}
